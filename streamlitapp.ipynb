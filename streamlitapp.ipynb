{
  "nbformat": 4,
  "nbformat_minor": 0,
  "metadata": {
    "colab": {
      "name": "streamlitapp.ipynb",
      "provenance": [],
      "collapsed_sections": [],
      "authorship_tag": "ABX9TyM00vj3vI1mjHw0KM9AccHd",
      "include_colab_link": true
    },
    "kernelspec": {
      "name": "python3",
      "display_name": "Python 3"
    },
    "language_info": {
      "name": "python"
    }
  },
  "cells": [
    {
      "cell_type": "markdown",
      "metadata": {
        "id": "view-in-github",
        "colab_type": "text"
      },
      "source": [
        "<a href=\"https://colab.research.google.com/github/FMurunga/Iris-Dataset-Classification-Problem/blob/main/streamlitapp.ipynb\" target=\"_parent\"><img src=\"https://colab.research.google.com/assets/colab-badge.svg\" alt=\"Open In Colab\"/></a>"
      ]
    },
    {
      "cell_type": "code",
      "source": [
        "!pip install -q streamlit"
      ],
      "metadata": {
        "id": "kwo085XbK0oR"
      },
      "execution_count": 4,
      "outputs": []
    },
    {
      "cell_type": "code",
      "source": [
        "!pip install pyngrok "
      ],
      "metadata": {
        "id": "a8OTkxObNUlL"
      },
      "execution_count": null,
      "outputs": []
    },
    {
      "cell_type": "code",
      "source": [
        "!mkdir -p /drive/ngrok-ssh\n",
        "%cd /drive/ngrok-ssh\n",
        "!wget https://bin.equinox.io/c/4VmDzA7iaHb/ngrok-stable-linux-amd64.zip -O ngrok-stable-linux-amd64.zip\n",
        "!unzip -u ngrok-stable-linux-amd64.zip\n",
        "!cp /drive/ngrok-ssh/ngrok /ngrok\n",
        "!chmod +x /ngrok"
      ],
      "metadata": {
        "id": "PU2hOjo2Ur3c"
      },
      "execution_count": null,
      "outputs": []
    },
    {
      "cell_type": "code",
      "source": [
        "!/ngrok authtoken qTyS17gfDW7H9BvRVqzr_VgjJcSi4eMPLhV1r7fzQ"
      ],
      "metadata": {
        "colab": {
          "base_uri": "https://localhost:8080/"
        },
        "id": "DEtZ6Wk2LQcN",
        "outputId": "dc38b433-c7f9-48c9-e47e-df96a7872f07"
      },
      "execution_count": 16,
      "outputs": [
        {
          "output_type": "stream",
          "name": "stdout",
          "text": [
            "Authtoken saved to configuration file: /root/.ngrok2/ngrok.yml\n"
          ]
        }
      ]
    },
    {
      "cell_type": "code",
      "execution_count": 19,
      "metadata": {
        "id": "ct7sDTfXvn1X",
        "colab": {
          "base_uri": "https://localhost:8080/"
        },
        "outputId": "332de13c-c3d3-4dcc-f24d-44bc72ce73b7"
      },
      "outputs": [
        {
          "output_type": "stream",
          "name": "stdout",
          "text": [
            "Writing app.py\n"
          ]
        }
      ],
      "source": [
        "%%writefile app.py\n",
        "\n",
        "import streamlit as st\n",
        "import pickle as pkl\n",
        "import pandas as pd\n",
        "#import joblib\n",
        "\n",
        "# loading the trained model\n",
        "pickle_in = open('clf.pkl', 'rb') \n",
        "clf = pickle.load(pickle_in)\n",
        "\n",
        "@st.cache()\n",
        "\n",
        "def main():\n",
        "\n",
        "   # front end elements of the web page \n",
        "    html_temp = \"\"\" \n",
        "    <div style =\"background-color:yellow;padding:13px\"> \n",
        "    <h1 style =\"color:black;text-align:center;\">Flower Prediction ML Appp</h1> \n",
        "    </div> \n",
        "    \"\"\"\n",
        "\n",
        "      # display the front end aspect\n",
        "    st.markdown(html_temp, unsafe_allow_html = True) \n",
        "\n",
        "    # Title\n",
        "    st.header(\"Flower Prediction Machine Learning App\")\n",
        "\n",
        "    # Input bar 1\n",
        "    sepal_length = st.number_input(\"Enter the Sepal Length\")\n",
        "\n",
        "    # Input bar 2\n",
        "    sepal_width = st.number_input(\"Enter the Sepal Width\")\n",
        "\n",
        "    # Input bar 3\n",
        "    petal_width = st.number_input(\"Enter the Petal Width\")\n",
        "\n",
        "    # Input bar 4\n",
        "    petal_length = st.number_input(\"Enter the Petal Length\")\n",
        "\n",
        "\n",
        "    # If button is pressed\n",
        "    if st.button(\"Submit\"):\n",
        "        \n",
        "        # Unpickle classifier\n",
        "        #clf = joblib.load(\"clf.pkl\")\n",
        "        \n",
        "        # Store inputs into dataframe\n",
        "        X = pd.DataFrame([[sepal_length, sepal_width, petal_width, petal_length]], \n",
        "                        columns = [\"sepal_length\", \"sepal_width\", \"petal_width\", \"petal_length\"])\n",
        "        \n",
        "        \n",
        "        # Get prediction\n",
        "        prediction = clf.predict(X)[0]\n",
        "        \n",
        "        # Output prediction\n",
        "        st.text(f\"This Iris flower speccies is a {prediction}\")\n",
        "    if __name__=='__main__': \n",
        "    main()"
      ]
    },
    {
      "cell_type": "code",
      "source": [
        "!streamlit run app.py --server.port=8501 &>/dev/null&"
      ],
      "metadata": {
        "id": "AAmeiudXcpNI"
      },
      "execution_count": 31,
      "outputs": []
    },
    {
      "cell_type": "code",
      "source": [
        "from pyngrok import ngrok \n",
        "public_url = ngrok.connect('8501')\n",
        "public_url"
      ],
      "metadata": {
        "colab": {
          "base_uri": "https://localhost:8080/"
        },
        "id": "R053ti59Nu59",
        "outputId": "c316422a-c863-432a-bf5b-0ecb4247ca61"
      },
      "execution_count": 32,
      "outputs": [
        {
          "output_type": "stream",
          "name": "stderr",
          "text": [
            "2022-07-14 07:01:21.092 INFO    pyngrok.ngrok: Opening tunnel named: http-8501-c82c1455-94d3-463b-86f7-4116524890de\n",
            "2022-07-14 07:01:21.097 INFO    pyngrok.process.ngrok: t=2022-07-14T07:01:21+0000 lvl=info msg=start pg=/api/tunnels id=5bfe684650849b7c\n",
            "2022-07-14 07:01:21.187 INFO    pyngrok.process.ngrok: t=2022-07-14T07:01:21+0000 lvl=info msg=\"started tunnel\" obj=tunnels name=\"http-8501-c82c1455-94d3-463b-86f7-4116524890de (http)\" addr=http://localhost:8501 url=http://ae0a-34-74-57-157.ngrok.io\n",
            "2022-07-14 07:01:21.191 INFO    pyngrok.process.ngrok: t=2022-07-14T07:01:21+0000 lvl=info msg=\"started tunnel\" obj=tunnels name=http-8501-c82c1455-94d3-463b-86f7-4116524890de addr=http://localhost:8501 url=https://ae0a-34-74-57-157.ngrok.io\n",
            "2022-07-14 07:01:21.196 INFO    pyngrok.process.ngrok: t=2022-07-14T07:01:21+0000 lvl=info msg=end pg=/api/tunnels id=5bfe684650849b7c status=201 dur=90.395589ms\n",
            "2022-07-14 07:01:21.200 INFO    pyngrok.process.ngrok: t=2022-07-14T07:01:21+0000 lvl=info msg=start pg=\"/api/tunnels/http-8501-c82c1455-94d3-463b-86f7-4116524890de (http)\" id=c731ad90cfeddd21\n"
          ]
        },
        {
          "output_type": "execute_result",
          "data": {
            "text/plain": [
              "<NgrokTunnel: \"http://ae0a-34-74-57-157.ngrok.io\" -> \"http://localhost:8501\">"
            ]
          },
          "metadata": {},
          "execution_count": 32
        },
        {
          "output_type": "stream",
          "name": "stderr",
          "text": [
            "2022-07-14 07:01:21.204 INFO    pyngrok.process.ngrok: t=2022-07-14T07:01:21+0000 lvl=info msg=end pg=\"/api/tunnels/http-8501-c82c1455-94d3-463b-86f7-4116524890de (http)\" id=c731ad90cfeddd21 status=200 dur=161.265µs\n"
          ]
        }
      ]
    }
  ]
}