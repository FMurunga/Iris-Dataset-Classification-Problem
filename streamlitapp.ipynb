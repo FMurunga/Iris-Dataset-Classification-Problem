{
  "cells": [
    {
      "cell_type": "markdown",
      "metadata": {
        "id": "view-in-github",
        "colab_type": "text"
      },
      "source": [
        "<a href=\"https://colab.research.google.com/github/FMurunga/Iris-Dataset-Classification-Problem/blob/main/streamlitapp.ipynb\" target=\"_parent\"><img src=\"https://colab.research.google.com/assets/colab-badge.svg\" alt=\"Open In Colab\"/></a>"
      ]
    },
    {
      "cell_type": "code",
      "execution_count": null,
      "metadata": {
        "id": "kwo085XbK0oR"
      },
      "outputs": [],
      "source": [
        "!pip install -q streamlit"
      ]
    },
    {
      "cell_type": "code",
      "execution_count": null,
      "metadata": {
        "colab": {
          "base_uri": "https://localhost:8080/"
        },
        "id": "a8OTkxObNUlL",
        "outputId": "8c6ecbf4-5e0a-47e6-d094-5060d91af19a"
      },
      "outputs": [
        {
          "name": "stdout",
          "output_type": "stream",
          "text": [
            "Looking in indexes: https://pypi.org/simple, https://us-python.pkg.dev/colab-wheels/public/simple/\n",
            "Collecting pyngrok\n",
            "  Downloading pyngrok-5.1.0.tar.gz (745 kB)\n",
            "\u001b[K     |████████████████████████████████| 745 kB 5.1 MB/s \n",
            "\u001b[?25hRequirement already satisfied: PyYAML in /usr/local/lib/python3.7/dist-packages (from pyngrok) (3.13)\n",
            "Building wheels for collected packages: pyngrok\n",
            "  Building wheel for pyngrok (setup.py) ... \u001b[?25l\u001b[?25hdone\n",
            "  Created wheel for pyngrok: filename=pyngrok-5.1.0-py3-none-any.whl size=19007 sha256=ae1cfcc450576eb7a491adddb95c2de6c13659cf9ed06ade2700ece163952a84\n",
            "  Stored in directory: /root/.cache/pip/wheels/bf/e6/af/ccf6598ecefecd44104069371795cb9b3afbcd16987f6ccfb3\n",
            "Successfully built pyngrok\n",
            "Installing collected packages: pyngrok\n",
            "Successfully installed pyngrok-5.1.0\n"
          ]
        }
      ],
      "source": [
        "!pip install pyngrok "
      ]
    },
    {
      "cell_type": "code",
      "execution_count": null,
      "metadata": {
        "colab": {
          "base_uri": "https://localhost:8080/"
        },
        "id": "PU2hOjo2Ur3c",
        "outputId": "a6a15c09-1f0f-4c81-d405-6cc45e42d3d9"
      },
      "outputs": [
        {
          "name": "stdout",
          "output_type": "stream",
          "text": [
            "/drive/ngrok-ssh\n",
            "--2022-07-14 06:08:46--  https://bin.equinox.io/c/4VmDzA7iaHb/ngrok-stable-linux-amd64.zip\n",
            "Resolving bin.equinox.io (bin.equinox.io)... 18.205.222.128, 52.202.168.65, 54.161.241.46, ...\n",
            "Connecting to bin.equinox.io (bin.equinox.io)|18.205.222.128|:443... connected.\n",
            "HTTP request sent, awaiting response... 200 OK\n",
            "Length: 13832437 (13M) [application/octet-stream]\n",
            "Saving to: ‘ngrok-stable-linux-amd64.zip’\n",
            "\n",
            "ngrok-stable-linux- 100%[===================>]  13.19M  50.8MB/s    in 0.3s    \n",
            "\n",
            "2022-07-14 06:08:47 (50.8 MB/s) - ‘ngrok-stable-linux-amd64.zip’ saved [13832437/13832437]\n",
            "\n",
            "Archive:  ngrok-stable-linux-amd64.zip\n",
            "  inflating: ngrok                   \n"
          ]
        }
      ],
      "source": [
        "!mkdir -p /drive/ngrok-ssh\n",
        "%cd /drive/ngrok-ssh\n",
        "!wget https://bin.equinox.io/c/4VmDzA7iaHb/ngrok-stable-linux-amd64.zip -O ngrok-stable-linux-amd64.zip\n",
        "!unzip -u ngrok-stable-linux-amd64.zip\n",
        "!cp /drive/ngrok-ssh/ngrok /ngrok\n",
        "!chmod +x /ngrok"
      ]
    },
    {
      "cell_type": "code",
      "execution_count": null,
      "metadata": {
        "colab": {
          "base_uri": "https://localhost:8080/"
        },
        "id": "DEtZ6Wk2LQcN",
        "outputId": "dc38b433-c7f9-48c9-e47e-df96a7872f07"
      },
      "outputs": [
        {
          "name": "stdout",
          "output_type": "stream",
          "text": [
            "Authtoken saved to configuration file: /root/.ngrok2/ngrok.yml\n"
          ]
        }
      ],
      "source": [
        "!/ngrok authtoken qTyS17gfDW7H9BvRVqzr_VgjJcSi4eMPLhV1r7fzQ"
      ]
    },
    {
      "cell_type": "code",
      "execution_count": null,
      "metadata": {
        "colab": {
          "base_uri": "https://localhost:8080/"
        },
        "id": "ct7sDTfXvn1X",
        "outputId": "332de13c-c3d3-4dcc-f24d-44bc72ce73b7"
      },
      "outputs": [
        {
          "name": "stdout",
          "output_type": "stream",
          "text": [
            "Writing app.py\n"
          ]
        }
      ],
      "source": [
        "%%writefile app.py\n",
        "\n",
        "import streamlit as st\n",
        "import pickle as pkl\n",
        "import pandas as pd\n",
        "#import joblib\n",
        "\n",
        "# loading the trained model\n",
        "pickle_in = open('clf.pkl', 'rb') \n",
        "clf = pickle.load(pickle_in)\n",
        "\n",
        "@st.cache()\n",
        "\n",
        "def main():\n",
        "\n",
        "   # front end elements of the web page \n",
        "    html_temp = \"\"\" \n",
        "    <div style =\"background-color:yellow;padding:13px\"> \n",
        "    <h1 style =\"color:black;text-align:center;\">Flower Prediction ML Appp</h1> \n",
        "    </div> \n",
        "    \"\"\"\n",
        "\n",
        "      # display the front end aspect\n",
        "    st.markdown(html_temp, unsafe_allow_html = True) \n",
        "\n",
        "    # Title\n",
        "    st.header(\"Flower Prediction Machine Learning App\")\n",
        "\n",
        "    # Input bar 1\n",
        "    sepal_length = st.number_input(\"Enter the Sepal Length\")\n",
        "\n",
        "    # Input bar 2\n",
        "    sepal_width = st.number_input(\"Enter the Sepal Width\")\n",
        "\n",
        "    # Input bar 3\n",
        "    petal_width = st.number_input(\"Enter the Petal Width\")\n",
        "\n",
        "    # Input bar 4\n",
        "    petal_length = st.number_input(\"Enter the Petal Length\")\n",
        "\n",
        "\n",
        "    # If button is pressed\n",
        "    if st.button(\"Submit\"):\n",
        "        \n",
        "        # Unpickle classifier\n",
        "        #clf = joblib.load(\"clf.pkl\")\n",
        "        \n",
        "        # Store inputs into dataframe\n",
        "        X = pd.DataFrame([[sepal_length, sepal_width, petal_width, petal_length]], \n",
        "                        columns = [\"sepal_length\", \"sepal_width\", \"petal_width\", \"petal_length\"])\n",
        "        \n",
        "        \n",
        "        # Get prediction\n",
        "        prediction = clf.predict(X)[0]\n",
        "        \n",
        "        # Output prediction\n",
        "        st.text(f\"This Iris flower speccies is a {prediction}\")\n",
        "    if __name__=='__main__': \n",
        "    main()"
      ]
    },
    {
      "cell_type": "code",
      "execution_count": 38,
      "metadata": {
        "id": "AAmeiudXcpNI"
      },
      "outputs": [],
      "source": [
        "!streamlit run app.py &>/dev/null&\n",
        "#!streamlit run --server.port 8501 app.py & npx localtunnel --port 8501"
      ]
    },
    {
      "cell_type": "code",
      "execution_count": 39,
      "metadata": {
        "colab": {
          "base_uri": "https://localhost:8080/"
        },
        "id": "R053ti59Nu59",
        "outputId": "510c2d96-c0ff-42c4-b771-198ddabc2fde"
      },
      "outputs": [
        {
          "output_type": "stream",
          "name": "stderr",
          "text": [
            "2022-07-14 08:57:44.658 INFO    pyngrok.ngrok: Opening tunnel named: http-8501-794e5113-5ad8-4601-b6e1-69b444e7c51b\n",
            "2022-07-14 08:57:44.694 INFO    pyngrok.process.ngrok: t=2022-07-14T08:57:44+0000 lvl=info msg=\"no configuration paths supplied\"\n",
            "2022-07-14 08:57:44.700 INFO    pyngrok.process.ngrok: t=2022-07-14T08:57:44+0000 lvl=info msg=\"using configuration at default config path\" path=/root/.ngrok2/ngrok.yml\n",
            "2022-07-14 08:57:44.701 INFO    pyngrok.process.ngrok: t=2022-07-14T08:57:44+0000 lvl=info msg=\"open config file\" path=/root/.ngrok2/ngrok.yml err=nil\n",
            "2022-07-14 08:57:44.713 INFO    pyngrok.process.ngrok: t=2022-07-14T08:57:44+0000 lvl=info msg=\"starting web service\" obj=web addr=127.0.0.1:4040\n",
            "2022-07-14 08:57:44.897 INFO    pyngrok.process.ngrok: t=2022-07-14T08:57:44+0000 lvl=info msg=\"tunnel session started\" obj=tunnels.session\n",
            "2022-07-14 08:57:44.901 INFO    pyngrok.process.ngrok: t=2022-07-14T08:57:44+0000 lvl=info msg=\"client session established\" obj=csess id=e861992ba1f7\n",
            "2022-07-14 08:57:44.907 INFO    pyngrok.process.ngrok: t=2022-07-14T08:57:44+0000 lvl=info msg=start pg=/api/tunnels id=60a9185f23af929d\n",
            "2022-07-14 08:57:44.922 INFO    pyngrok.process.ngrok: t=2022-07-14T08:57:44+0000 lvl=info msg=end pg=/api/tunnels id=60a9185f23af929d status=200 dur=392.693µs\n",
            "2022-07-14 08:57:44.933 INFO    pyngrok.process.ngrok: t=2022-07-14T08:57:44+0000 lvl=info msg=start pg=/api/tunnels id=a4b35cbd16401787\n",
            "2022-07-14 08:57:44.941 INFO    pyngrok.process.ngrok: t=2022-07-14T08:57:44+0000 lvl=info msg=end pg=/api/tunnels id=a4b35cbd16401787 status=200 dur=136.503µs\n",
            "2022-07-14 08:57:44.944 INFO    pyngrok.process.ngrok: t=2022-07-14T08:57:44+0000 lvl=info msg=start pg=/api/tunnels id=603e61b298a9221b\n",
            "2022-07-14 08:57:45.030 INFO    pyngrok.process.ngrok: t=2022-07-14T08:57:45+0000 lvl=info msg=\"started tunnel\" obj=tunnels name=\"http-8501-794e5113-5ad8-4601-b6e1-69b444e7c51b (http)\" addr=http://localhost:8501 url=http://0e90-34-74-57-157.ngrok.io\n",
            "2022-07-14 08:57:45.041 INFO    pyngrok.process.ngrok: t=2022-07-14T08:57:45+0000 lvl=info msg=\"started tunnel\" obj=tunnels name=http-8501-794e5113-5ad8-4601-b6e1-69b444e7c51b addr=http://localhost:8501 url=https://0e90-34-74-57-157.ngrok.io\n",
            "2022-07-14 08:57:45.046 INFO    pyngrok.process.ngrok: t=2022-07-14T08:57:45+0000 lvl=info msg=end pg=/api/tunnels id=603e61b298a9221b status=201 dur=118.456077ms\n"
          ]
        },
        {
          "output_type": "execute_result",
          "data": {
            "text/plain": [
              "<NgrokTunnel: \"http://0e90-34-74-57-157.ngrok.io\" -> \"http://localhost:8501\">"
            ]
          },
          "metadata": {},
          "execution_count": 39
        },
        {
          "output_type": "stream",
          "name": "stderr",
          "text": [
            "2022-07-14 08:57:45.059 INFO    pyngrok.process.ngrok: t=2022-07-14T08:57:45+0000 lvl=info msg=start pg=\"/api/tunnels/http-8501-794e5113-5ad8-4601-b6e1-69b444e7c51b (http)\" id=e95d79c64c04d3bc\n",
            "2022-07-14 08:57:45.062 INFO    pyngrok.process.ngrok: t=2022-07-14T08:57:45+0000 lvl=info msg=end pg=\"/api/tunnels/http-8501-794e5113-5ad8-4601-b6e1-69b444e7c51b (http)\" id=e95d79c64c04d3bc status=200 dur=710.661µs\n"
          ]
        }
      ],
      "source": [
        "from pyngrok import ngrok \n",
        "public_url = ngrok.connect('8501')\n",
        "public_url"
      ]
    }
  ],
  "metadata": {
    "colab": {
      "collapsed_sections": [],
      "name": "streamlitapp.ipynb",
      "provenance": [],
      "authorship_tag": "ABX9TyMPoaTOcvkG6fFUF2wacPDl",
      "include_colab_link": true
    },
    "kernelspec": {
      "display_name": "Python 3",
      "name": "python3"
    },
    "language_info": {
      "name": "python"
    }
  },
  "nbformat": 4,
  "nbformat_minor": 0
}